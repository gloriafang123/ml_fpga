{
 "cells": [
  {
   "cell_type": "code",
   "execution_count": 2,
   "metadata": {},
   "outputs": [],
   "source": [
    "import numpy as np\n",
    "import mnist\n",
    "import tensorflow as tf\n",
    "from tensorflow.keras.models import Sequential\n",
    "from tensorflow.keras.layers import Dense\n",
    "from tensorflow.keras.utils import to_categorical\n",
    "\n",
    "np.random.seed(0)\n",
    "tf.random.set_seed(0)\n",
    "\n",
    "train_images = mnist.train_images()\n",
    "train_labels = mnist.train_labels()\n",
    "test_images = mnist.test_images()\n",
    "test_labels = mnist.test_labels()\n",
    "\n",
    "# Normalize the images.\n",
    "train_images = (train_images / 255) - 0.5\n",
    "test_images = (test_images / 255) - 0.5\n",
    "\n",
    "# # Flatten the images.\n",
    "# train_images = train_images.reshape((-1, 784))\n",
    "# test_images = test_images.reshape((-1, 784))"
   ]
  },
  {
   "cell_type": "code",
   "execution_count": 3,
   "metadata": {},
   "outputs": [
    {
     "name": "stdout",
     "output_type": "stream",
     "text": [
      "(10000, 10, 10)\n"
     ]
    }
   ],
   "source": [
    "from matplotlib import pyplot as plt\n",
    "import cv2\n",
    "\n",
    "downsampled_train_images = np.zeros((train_images.shape[0], 10, 10))\n",
    "for i in range(train_images.shape[0]):\n",
    "    train_image = train_images[i]\n",
    "    res = cv2.resize(train_image, dsize=(10, 10), interpolation=cv2.INTER_CUBIC)\n",
    "    downsampled_train_images[i] = res\n",
    "\n",
    "downsampled_test_images = np.zeros((test_images.shape[0], 10, 10))\n",
    "print(downsampled_test_images.shape)\n",
    "for i in range(test_images.shape[0]):\n",
    "    test_image = test_images[i]\n",
    "    res = cv2.resize(test_image, dsize=(10, 10), interpolation=cv2.INTER_CUBIC)\n",
    "    downsampled_test_images[i] = res"
   ]
  },
  {
   "cell_type": "code",
   "execution_count": 4,
   "metadata": {
    "scrolled": true
   },
   "outputs": [
    {
     "name": "stdout",
     "output_type": "stream",
     "text": [
      "Collecting opencv-python\n",
      "  Downloading opencv_python-4.4.0.46-cp37-cp37m-manylinux2014_x86_64.whl (49.5 MB)\n",
      "\u001b[K     |████████████████████████████████| 49.5 MB 1.1 MB/s eta 0:00:01\n",
      "\u001b[?25hRequirement already satisfied: numpy>=1.14.5 in /home/minimario/anaconda3/lib/python3.7/site-packages (from opencv-python) (1.18.5)\n",
      "Installing collected packages: opencv-python\n",
      "Successfully installed opencv-python-4.4.0.46\n",
      "\u001b[33mWARNING: You are using pip version 20.2.2; however, version 20.3.1 is available.\n",
      "You should consider upgrading via the '/home/minimario/anaconda3/bin/python -m pip install --upgrade pip' command.\u001b[0m\n",
      "Note: you may need to restart the kernel to use updated packages.\n"
     ]
    }
   ],
   "source": [
    "%pip install opencv-python"
   ]
  },
  {
   "cell_type": "code",
   "execution_count": 4,
   "metadata": {},
   "outputs": [],
   "source": [
    "train_images = downsampled_train_images.reshape((-1, 100))\n",
    "test_images = downsampled_test_images.reshape((-1, 100))"
   ]
  },
  {
   "cell_type": "code",
   "execution_count": 60,
   "metadata": {},
   "outputs": [
    {
     "data": {
      "text/plain": [
       "<matplotlib.image.AxesImage at 0x7f7aceab9890>"
      ]
     },
     "execution_count": 60,
     "metadata": {},
     "output_type": "execute_result"
    },
    {
     "data": {
      "image/png": "[encoded data removed]",
      "text/plain": [
       "<Figure size 432x288 with 1 Axes>"
      ]
     },
     "metadata": {
      "needs_background": "light"
     },
     "output_type": "display_data"
    }
   ],
   "source": [
    "img = downsampled_test_images[10]\n",
    "plt.imshow(img, cmap='gray')\n"
   ]
  },
  {
   "cell_type": "code",
   "execution_count": 61,
   "metadata": {},
   "outputs": [],
   "source": [
    "import numpy as np\n",
    "import pickle\n",
    "w, b = pickle.load(open('mnist_weights_small.pkl', 'rb'))\n",
    "w1 = np.array(w[0:700]).reshape((100, 7))\n",
    "w2 = np.array(w[700:770]).reshape((7, 10))\n",
    "w3 = np.array(w[770:870]).reshape((10, 10))\n",
    "b1 = np.array(b[0:7])\n",
    "b2 = np.array(b[7:17])\n",
    "b3 = np.array(b[17:27])"
   ]
  },
  {
   "cell_type": "code",
   "execution_count": 62,
   "metadata": {},
   "outputs": [
    {
     "name": "stdout",
     "output_type": "stream",
     "text": [
      "[-0.33447951078414917, -0.0003544537757989019, -0.23490723967552185, -0.39190343022346497, -0.36083364486694336, -0.08836640417575836, -0.1853259950876236, -0.0571708045899868, -0.4339092969894409, -0.2500276267528534]\n"
     ]
    }
   ],
   "source": [
    "print(w[:10])\n",
    "w1_prime = np.array(w[0:700]).reshape((7, 100))\n",
    "# w1_prime[0]"
   ]
  },
  {
   "cell_type": "code",
   "execution_count": 79,
   "metadata": {},
   "outputs": [
    {
     "name": "stdout",
     "output_type": "stream",
     "text": [
      "[-0.33447951 -0.0571708   0.6554513   0.2767503  -0.0173123  -0.07651787\n",
      " -0.94467908 -0.04457108  0.19622728 -0.4619962 ]\n",
      "[-0.5 -0.5 -0.5 -0.5 -0.5 -0.5 -0.5 -0.5 -0.5 -0.5]\n",
      "[0.2359582  0.27367058 0.02825686 0.02711782 0.01385591 0.12679602\n",
      " 0.21482821]\n",
      "acc:  0.23595820367336273\n",
      "t:  [-0.33447951 -0.0571708   0.6554513   0.2767503  -0.0173123  -0.07651787\n",
      " -0.94467908 -0.04457108  0.19622728 -0.4619962 ]\n",
      "-0.33447951078414917 -0.5\n",
      "acc:  0.4031979590654373\n",
      "-0.0571708045899868 -0.5\n",
      "acc:  0.4317833613604307\n",
      "0.6554512977600098 -0.5\n",
      "acc:  0.10405771248042583\n",
      "0.2767502963542938 -0.5\n",
      "acc:  -0.03431743569672108\n",
      "-0.01731230318546295 -0.5\n",
      "acc:  -0.0256612841039896\n",
      "-0.07651787251234055 -0.5\n",
      "acc:  0.012597652152180672\n",
      "-0.9446790814399719 -0.5\n",
      "acc:  0.48493719287216663\n",
      "-0.044571083039045334 -0.5\n",
      "acc:  0.5072227343916893\n",
      "0.1962272822856903 -0.5\n",
      "acc:  0.40910909324884415\n",
      "-0.4619961977005005 -0.5\n",
      "acc:  0.6401071920990944\n"
     ]
    }
   ],
   "source": [
    "import numpy as np\n",
    "import pickle\n",
    "w, b = pickle.load(open('mnist_weights_small.pkl', 'rb'))\n",
    "w1 = np.array(w[0:700]).reshape((100, 7))\n",
    "w2 = np.array(w[700:770]).reshape((7, 10))\n",
    "w3 = np.array(w[770:870]).reshape((10, 10))\n",
    "b1 = np.array(b[0:7])\n",
    "b2 = np.array(b[7:17])\n",
    "b3 = np.array(b[17:27])\n",
    "\n",
    "def relu(x): \n",
    "    return np.maximum(0, x)\n",
    "\n",
    "def int1(x):\n",
    "    return w1.T@x+b1\n",
    "\n",
    "def net(x):\n",
    "    return w3.T@relu(w2.T@relu(w1.T@x+b1)+b2)+b3\n",
    "\n",
    "x = img.reshape(100,)\n",
    "\n",
    "print(w1[:, 0][:10])\n",
    "print(x[0:10])\n",
    "# print(net(x))\n",
    "# print(w2.shape)\n",
    "# print(w2[:, 0])\n",
    "# print(\"end of w\")\n",
    "# print(w[-10:][::-1])\n",
    "\n",
    "# print(w1.T.shape)\n",
    "print(b1)\n",
    "acc = b1[0]\n",
    "print(\"acc: \", acc)\n",
    "print(\"t: \", w1.T[0, 0:10])\n",
    "for i in range(10):\n",
    "    print(w1.T[0, i], x[i])\n",
    "    acc += w1.T[0, i]*x[i]\n",
    "    print(\"acc: \", acc)\n",
    "# print(\"layer 1 things\")\n",
    "# print(w1.T@x+b1)\n",
    "# print(w1.T@x)\n",
    "# print(\".\")\n",
    "# print(w2.T@relu(w1.T@x+b1)+b2)\n",
    "# print(w3.T@relu(w2.T@relu(w1.T@x+b1)+b2)+b3)\n",
    "\n",
    "# print(w)\n"
   ]
  },
  {
   "cell_type": "code",
   "execution_count": 67,
   "metadata": {},
   "outputs": [
    {
     "name": "stdout",
     "output_type": "stream",
     "text": [
      "[-0.33447951078414917, -0.0003544537757989019, -0.23490723967552185, -0.39190343022346497, -0.36083364486694336, -0.08836640417575836, -0.1853259950876236, -0.0571708045899868, -0.4339092969894409, -0.2500276267528534]\n"
     ]
    }
   ],
   "source": [
    "print(w[0:10])"
   ]
  },
  {
   "cell_type": "code",
   "execution_count": 53,
   "metadata": {},
   "outputs": [
    {
     "name": "stdout",
     "output_type": "stream",
     "text": [
      "[0.23595820367336273, 0.27367058396339417, 0.028256863355636597, 0.02711782045662403, 0.01385591458529234, 0.12679602205753326, 0.21482820808887482, -0.5414485335350037, 0.31689101457595825, -0.2732972204685211, -0.13222065567970276, -0.16185666620731354, -0.7618507742881775, 0.02231205441057682, -0.6814431548118591, 0.024879492819309235, 0.0, 2.413695812225342, 1.4797947406768799, -1.0542773008346558, -1.0918638706207275, -1.3134162425994873, 0.33767756819725037, -0.008651601150631905, -0.1102292388677597, -0.0877900943160057, 0.7129209637641907]\n"
     ]
    }
   ],
   "source": [
    "print(b)"
   ]
  }
 ],
 "metadata": {
  "kernelspec": {
   "display_name": "Python 3",
   "language": "python",
   "name": "python3"
  },
  "language_info": {
   "codemirror_mode": {
    "name": "ipython",
    "version": 3
   },
   "file_extension": ".py",
   "mimetype": "text/x-python",
   "name": "python",
   "nbconvert_exporter": "python",
   "pygments_lexer": "ipython3",
   "version": "3.7.7"
  }
 },
 "nbformat": 4,
 "nbformat_minor": 2
}
