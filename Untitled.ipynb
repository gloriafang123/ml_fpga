{
 "cells": [
  {
   "cell_type": "code",
   "execution_count": 1,
   "metadata": {},
   "outputs": [],
   "source": [
    "import numpy as np\n",
    "import mnist\n",
    "import tensorflow as tf\n",
    "from tensorflow.keras.models import Sequential\n",
    "from tensorflow.keras.layers import Dense\n",
    "from tensorflow.keras.utils import to_categorical\n",
    "\n",
    "np.random.seed(0)\n",
    "tf.random.set_seed(0)\n",
    "\n",
    "train_images = mnist.train_images()\n",
    "train_labels = mnist.train_labels()\n",
    "test_images = mnist.test_images()\n",
    "test_labels = mnist.test_labels()\n",
    "\n",
    "# Normalize the images.\n",
    "train_images = (train_images / 255) - 0.5\n",
    "test_images = (test_images / 255) - 0.5\n",
    "\n",
    "# # Flatten the images.\n",
    "# train_images = train_images.reshape((-1, 784))\n",
    "# test_images = test_images.reshape((-1, 784))"
   ]
  },
  {
   "cell_type": "code",
   "execution_count": 2,
   "metadata": {},
   "outputs": [
    {
     "name": "stdout",
     "output_type": "stream",
     "text": [
      "(10000, 10, 10)\n"
     ]
    }
   ],
   "source": [
    "from matplotlib import pyplot as plt\n",
    "import cv2\n",
    "\n",
    "downsampled_train_images = np.zeros((train_images.shape[0], 10, 10))\n",
    "for i in range(train_images.shape[0]):\n",
    "    train_image = train_images[i]\n",
    "    res = cv2.resize(train_image, dsize=(10, 10), interpolation=cv2.INTER_CUBIC)\n",
    "    downsampled_train_images[i] = res\n",
    "\n",
    "downsampled_test_images = np.zeros((test_images.shape[0], 10, 10))\n",
    "print(downsampled_test_images.shape)\n",
    "for i in range(test_images.shape[0]):\n",
    "    test_image = test_images[i]\n",
    "    res = cv2.resize(test_image, dsize=(10, 10), interpolation=cv2.INTER_CUBIC)\n",
    "    downsampled_test_images[i] = res"
   ]
  },
  {
   "cell_type": "code",
   "execution_count": 4,
   "metadata": {
    "scrolled": true
   },
   "outputs": [
    {
     "name": "stdout",
     "output_type": "stream",
     "text": [
      "Collecting opencv-python\n",
      "  Downloading opencv_python-4.4.0.46-cp37-cp37m-manylinux2014_x86_64.whl (49.5 MB)\n",
      "\u001b[K     |████████████████████████████████| 49.5 MB 1.1 MB/s eta 0:00:01\n",
      "\u001b[?25hRequirement already satisfied: numpy>=1.14.5 in /home/minimario/anaconda3/lib/python3.7/site-packages (from opencv-python) (1.18.5)\n",
      "Installing collected packages: opencv-python\n",
      "Successfully installed opencv-python-4.4.0.46\n",
      "\u001b[33mWARNING: You are using pip version 20.2.2; however, version 20.3.1 is available.\n",
      "You should consider upgrading via the '/home/minimario/anaconda3/bin/python -m pip install --upgrade pip' command.\u001b[0m\n",
      "Note: you may need to restart the kernel to use updated packages.\n"
     ]
    }
   ],
   "source": [
    "%pip install opencv-python"
   ]
  },
  {
   "cell_type": "code",
   "execution_count": 3,
   "metadata": {},
   "outputs": [],
   "source": [
    "train_images = downsampled_train_images.reshape((-1, 100))\n",
    "test_images = downsampled_test_images.reshape((-1, 100))"
   ]
  },
  {
   "cell_type": "code",
   "execution_count": 9,
   "metadata": {},
   "outputs": [
    {
     "name": "stdout",
     "output_type": "stream",
     "text": [
      "10 [-0.5        -0.5        -0.5        -0.5        -0.5        -0.5\n",
      " -0.5        -0.5        -0.5        -0.5        -0.5        -0.5\n",
      " -0.5        -0.53467094 -0.59493047]\n"
     ]
    },
    {
     "data": {
      "image/png": "[encoded data removed]",
      "text/plain": [
       "<Figure size 432x288 with 1 Axes>"
      ]
     },
     "metadata": {
      "needs_background": "light"
     },
     "output_type": "display_data"
    }
   ],
   "source": [
    "i = 10\n",
    "img = downsampled_test_images[i]\n",
    "plt.imshow(img, cmap='gray')\n",
    "x = img.reshape(100,)\n",
    "print(i, x[0:15])"
   ]
  },
  {
   "cell_type": "code",
   "execution_count": 19,
   "metadata": {},
   "outputs": [
    {
     "name": "stdout",
     "output_type": "stream",
     "text": [
      "WARNING:tensorflow:8 out of the last 8 calls to <function Model.make_predict_function.<locals>.predict_function at 0x7f809c07d830> triggered tf.function retracing. Tracing is expensive and the excessive number of tracings could be due to (1) creating @tf.function repeatedly in a loop, (2) passing tensors with different shapes, (3) passing Python objects instead of tensors. For (1), please define your @tf.function outside of the loop. For (2), @tf.function has experimental_relax_shapes=True option that relaxes argument shapes that can avoid unnecessary retracing. For (3), please refer to https://www.tensorflow.org/tutorials/customization/performance#python_or_tensor_args and https://www.tensorflow.org/api_docs/python/tf/function for  more details.\n",
      "6\n",
      "andddd final: \n",
      "[-2122.31646095  1349.14031829  -188.89967771  -181.26205727\n",
      "  -815.67188765 -1002.77798228 -1472.14399402   -10.47983605\n",
      "    19.03994353  -443.72352091]\n"
     ]
    },
    {
     "data": {
      "image/png": "[encoded data removed]",
      "text/plain": [
       "<Figure size 432x288 with 1 Axes>"
      ]
     },
     "metadata": {
      "needs_background": "light"
     },
     "output_type": "display_data"
    }
   ],
   "source": [
    "from tensorflow.keras.models import Sequential\n",
    "from tensorflow.keras.layers import Dense\n",
    "import numpy as np\n",
    "import mnist\n",
    "\n",
    "ds_size = 10\n",
    "\n",
    "# Build the model.\n",
    "model = Sequential([\n",
    "  Dense(7, activation='relu', input_shape=(ds_size*ds_size,)),\n",
    "  Dense(10, activation='relu'),\n",
    "  Dense(10, activation='softmax'),\n",
    "])\n",
    "\n",
    "# Load the model's saved weights.\n",
    "model.load_weights('model.h5')\n",
    "print(np.argmax(model.predict(downsampled_test_images[11:12].reshape(-1, 100))))\n",
    "w1, b1, w2, b2, w3, b3 = list(map(lambda x:x.numpy(), model.weights))\n",
    "def net(x):\n",
    "    return w3.T@relu(w2.T@relu(w1.T@x+b1)+b2)+b3\n",
    "\n",
    "img = downsampled_test_images[5]\n",
    "plt.imshow(img, cmap='gray')\n",
    "x = img.reshape(100,)\n",
    "\n",
    "# print(\"correct first 10 elements: \", w1[0:10, 0])\n",
    "# print(\"first 7 of weight 2: \", w2[:, 0])\n",
    "# print()\n",
    "# print(\"first layer now\")\n",
    "# print(relu(w1.T@x+b1))\n",
    "# print(\"now second layer:\")\n",
    "# print(relu(w2.T@relu(w1.T@x+b1)+b2))\n",
    "print(\"andddd final: \")\n",
    "print(net(x)*256)\n"
   ]
  },
  {
   "cell_type": "code",
   "execution_count": 5,
   "metadata": {},
   "outputs": [],
   "source": [
    "import numpy as np\n",
    "import pickle\n",
    "w, b = pickle.load(open('mnist_weights_small.pkl', 'rb'))\n",
    "w1 = np.array(w[0:700]).reshape((100, 7))\n",
    "w2 = np.array(w[700:770]).reshape((7, 10))\n",
    "w3 = np.array(w[770:870]).reshape((10, 10))\n",
    "b1 = np.array(b[0:7])\n",
    "b2 = np.array(b[7:17])\n",
    "b3 = np.array(b[17:27])"
   ]
  },
  {
   "cell_type": "code",
   "execution_count": 13,
   "metadata": {},
   "outputs": [
    {
     "name": "stdout",
     "output_type": "stream",
     "text": [
      "1\n"
     ]
    },
    {
     "data": {
      "image/png": "[encoded data removed]",
      "text/plain": [
       "<Figure size 432x288 with 1 Axes>"
      ]
     },
     "metadata": {
      "needs_background": "light"
     },
     "output_type": "display_data"
    }
   ],
   "source": [
    "import numpy as np\n",
    "import pickle\n",
    "w, b = pickle.load(open('mnist_weights_small.pkl', 'rb'))\n",
    "w1 = np.array(w[0:700]).reshape((7, 100))\n",
    "w2 = np.array(w[700:770]).reshape((7, 10))\n",
    "w3 = np.array(w[770:870]).reshape((10, 10))\n",
    "b1 = np.array(b[0:7])\n",
    "b2 = np.array(b[7:17])\n",
    "b3 = np.array(b[17:27])\n",
    "\n",
    "def relu(x): \n",
    "    return np.maximum(0, x)\n",
    "\n",
    "def int1(x):\n",
    "    return w1.T@x+b1\n",
    "\n",
    "def net(x):\n",
    "    return w3.T@relu(w2.T@relu(w1@x+b1)+b2)+b3\n",
    "\n",
    "img = downsampled_test_images[11]\n",
    "plt.imshow(img, cmap='gray')\n",
    "x = img.reshape(100,)\n",
    "print(np.argmax(net(x)))\n"
   ]
  },
  {
   "cell_type": "code",
   "execution_count": 15,
   "metadata": {},
   "outputs": [
    {
     "name": "stdout",
     "output_type": "stream",
     "text": [
      "6\n",
      "correct first 10 elements:  [-3.3447951e-01 -3.5445378e-04 -2.3490724e-01 -3.9190343e-01\n",
      " -3.6083364e-01 -8.8366404e-02 -1.8532600e-01 -5.7170805e-02\n",
      " -4.3390930e-01 -2.5002763e-01]\n",
      "first 7 of weight 2:  [ 0.24857204  1.095455   -0.0336651  -0.73847413  0.5443355   0.6513784\n",
      "  0.7949747 ]\n",
      "\n",
      "first layer now\n",
      "[2.82003083 2.46883633 1.08024886 2.87195119 1.208127   4.12065475\n",
      " 3.71382813]\n",
      "now second layer:\n",
      "[7.00093437 0.         3.16206269 6.59981695 6.33663948 0.54210622\n",
      " 1.53304541 4.32746894 6.73059407 0.        ]\n",
      "andddd final: \n",
      "[  8.03781836 -15.2673819    3.21611703   1.44893796 -14.30664697\n",
      "   4.00365204  -3.72174676  -4.78550924   1.45716759  -5.61659585]\n",
      "-5.616595853667264\n",
      "1.4571675870621819\n",
      "-4.785509242897463\n",
      "-3.7217467601057557\n",
      "4.003652044271467\n",
      "-14.306646970750553\n",
      "1.4489379573230114\n",
      "3.2161170290190206\n",
      "-15.267381899467129\n",
      "8.037818357134203\n"
     ]
    },
    {
     "data": {
      "image/png": "[encoded data removed]",
      "text/plain": [
       "<Figure size 432x288 with 1 Axes>"
      ]
     },
     "metadata": {
      "needs_background": "light"
     },
     "output_type": "display_data"
    }
   ],
   "source": [
    "from tensorflow.keras.models import Sequential\n",
    "from tensorflow.keras.layers import Dense\n",
    "import numpy as np\n",
    "import mnist\n",
    "\n",
    "ds_size = 10\n",
    "\n",
    "# Build the model.\n",
    "model = Sequential([\n",
    "  Dense(7, activation='relu', input_shape=(ds_size*ds_size,)),\n",
    "  Dense(10, activation='relu'),\n",
    "  Dense(10, activation='softmax'),\n",
    "])\n",
    "\n",
    "# Load the model's saved weights.\n",
    "model.load_weights('model.h5')\n",
    "print(np.argmax(model.predict(downsampled_test_images[11:12].reshape(-1, 100))))\n",
    "w1, b1, w2, b2, w3, b3 = list(map(lambda x:x.numpy(), model.weights))\n",
    "def net(x):\n",
    "    return w3.T@relu(w2.T@relu(w1.T@x+b1)+b2)+b3\n",
    "img = downsampled_test_images[10]\n",
    "plt.imshow(img, cmap='gray')\n",
    "x = img.reshape(100,)\n",
    "\n",
    "print(\"correct first 10 elements: \", w1[0:10, 0])\n",
    "print(\"first 7 of weight 2: \", w2[:, 0])\n",
    "print()\n",
    "print(\"first layer now\")\n",
    "print(relu(w1.T@x+b1))\n",
    "print(\"now second layer:\")\n",
    "print(relu(w2.T@relu(w1.T@x+b1)+b2))\n",
    "print(\"andddd final: \")\n",
    "print(net(x))\n",
    "# print(w1.shape)\n",
    "# print(net(x))\n",
    "for i in net(x)[::-1]:\n",
    "    print(i)"
   ]
  },
  {
   "cell_type": "code",
   "execution_count": 14,
   "metadata": {},
   "outputs": [
    {
     "name": "stdout",
     "output_type": "stream",
     "text": [
      "0 0.236\n",
      "-------------- -0.3345 -0.5 0.1672\n",
      "1 0.4032\n",
      "-------------- -0.4126 -0.5 0.2063\n",
      "2 0.6095\n",
      "-------------- -0.0115 -0.5 0.0057\n",
      "3 0.6153\n",
      "-------------- 0.0019 -0.5 -0.0009\n",
      "4 0.6143\n",
      "-------------- -0.0533 -0.5 0.0267\n",
      "5 0.641\n",
      "-------------- 0.019 -0.5 -0.0095\n",
      "6 0.6315\n",
      "-------------- -0.218 -0.5 0.109\n",
      "7 0.7405\n"
     ]
    },
    {
     "ename": "IndexError",
     "evalue": "index 7 is out of bounds for axis 0 with size 7",
     "output_type": "error",
     "traceback": [
      "\u001b[0;31m---------------------------------------------------------------------------\u001b[0m",
      "\u001b[0;31mIndexError\u001b[0m                                Traceback (most recent call last)",
      "\u001b[0;32m<ipython-input-14-20a1133f7fc3>\u001b[0m in \u001b[0;36m<module>\u001b[0;34m\u001b[0m\n\u001b[1;32m      4\u001b[0m \u001b[0;32mfor\u001b[0m \u001b[0mi\u001b[0m \u001b[0;32min\u001b[0m \u001b[0mrange\u001b[0m\u001b[0;34m(\u001b[0m\u001b[0;36m100\u001b[0m\u001b[0;34m)\u001b[0m\u001b[0;34m:\u001b[0m\u001b[0;34m\u001b[0m\u001b[0;34m\u001b[0m\u001b[0m\n\u001b[1;32m      5\u001b[0m     \u001b[0mprint\u001b[0m\u001b[0;34m(\u001b[0m\u001b[0mi\u001b[0m\u001b[0;34m,\u001b[0m \u001b[0mstart\u001b[0m\u001b[0;34m.\u001b[0m\u001b[0mround\u001b[0m\u001b[0;34m(\u001b[0m\u001b[0;36m4\u001b[0m\u001b[0;34m)\u001b[0m\u001b[0;34m)\u001b[0m\u001b[0;34m\u001b[0m\u001b[0;34m\u001b[0m\u001b[0m\n\u001b[0;32m----> 6\u001b[0;31m     \u001b[0mprint\u001b[0m\u001b[0;34m(\u001b[0m\u001b[0;34m\"--------------\"\u001b[0m\u001b[0;34m,\u001b[0m \u001b[0mw\u001b[0m\u001b[0;34m[\u001b[0m\u001b[0mi\u001b[0m\u001b[0;34m]\u001b[0m\u001b[0;34m.\u001b[0m\u001b[0mround\u001b[0m\u001b[0;34m(\u001b[0m\u001b[0;36m4\u001b[0m\u001b[0;34m)\u001b[0m\u001b[0;34m,\u001b[0m \u001b[0mx\u001b[0m\u001b[0;34m[\u001b[0m\u001b[0mi\u001b[0m\u001b[0;34m]\u001b[0m\u001b[0;34m.\u001b[0m\u001b[0mround\u001b[0m\u001b[0;34m(\u001b[0m\u001b[0;36m4\u001b[0m\u001b[0;34m)\u001b[0m\u001b[0;34m,\u001b[0m \u001b[0;34m(\u001b[0m\u001b[0mw\u001b[0m\u001b[0;34m[\u001b[0m\u001b[0mi\u001b[0m\u001b[0;34m]\u001b[0m \u001b[0;34m*\u001b[0m \u001b[0mx\u001b[0m\u001b[0;34m[\u001b[0m\u001b[0mi\u001b[0m\u001b[0;34m]\u001b[0m\u001b[0;34m)\u001b[0m\u001b[0;34m.\u001b[0m\u001b[0mround\u001b[0m\u001b[0;34m(\u001b[0m\u001b[0;36m4\u001b[0m\u001b[0;34m)\u001b[0m\u001b[0;34m)\u001b[0m\u001b[0;34m\u001b[0m\u001b[0;34m\u001b[0m\u001b[0m\n\u001b[0m\u001b[1;32m      7\u001b[0m     \u001b[0mstart\u001b[0m \u001b[0;34m+=\u001b[0m \u001b[0mw\u001b[0m\u001b[0;34m[\u001b[0m\u001b[0mi\u001b[0m\u001b[0;34m]\u001b[0m \u001b[0;34m*\u001b[0m \u001b[0mx\u001b[0m\u001b[0;34m[\u001b[0m\u001b[0mi\u001b[0m\u001b[0;34m]\u001b[0m\u001b[0;34m\u001b[0m\u001b[0;34m\u001b[0m\u001b[0m\n\u001b[1;32m      8\u001b[0m \u001b[0;34m\u001b[0m\u001b[0m\n",
      "\u001b[0;31mIndexError\u001b[0m: index 7 is out of bounds for axis 0 with size 7"
     ]
    }
   ],
   "source": [
    "w = w1[:, 0]\n",
    "start = b1[0]\n",
    "\n",
    "for i in range(100):\n",
    "    print(i, start.round(4))\n",
    "    print(\"--------------\", w[i].round(4), x[i].round(4), (w[i] * x[i]).round(4))\n",
    "    start += w[i] * x[i]\n",
    "    "
   ]
  },
  {
   "cell_type": "code",
   "execution_count": 121,
   "metadata": {},
   "outputs": [
    {
     "name": "stdout",
     "output_type": "stream",
     "text": [
      "[-0.33447951078414917, -0.41264021396636963, -0.011497817933559418, 0.0018944304902106524, -0.05331937596201897, 0.0189912561327219, -0.21803617477416992, -0.0003544537757989019, -0.18039178848266602, -0.205647274851799]\n"
     ]
    }
   ],
   "source": [
    "\n",
    "weights = []\n",
    "biases = []\n",
    "for i in [w1, w2, w3]:\n",
    "  weights.append(i.flatten().tolist())\n",
    "for i in [b1, b2, b3]:\n",
    "  biases.append(i.flatten().tolist())\n",
    "\n",
    "def flatten(l):\n",
    "\tl_flat = []\n",
    "\tfor i in l:\n",
    "\t\tl_flat += i\n",
    "\treturn l_flat \n",
    "\n",
    "weights_flat = flatten(weights)\n",
    "biases_flat = flatten(biases)\n",
    "print(weights_flat[0:10])"
   ]
  },
  {
   "cell_type": "code",
   "execution_count": null,
   "metadata": {},
   "outputs": [],
   "source": []
  },
  {
   "cell_type": "code",
   "execution_count": 11,
   "metadata": {},
   "outputs": [
    {
     "ename": "NameError",
     "evalue": "name 'w' is not defined",
     "output_type": "error",
     "traceback": [
      "\u001b[0;31m---------------------------------------------------------------------------\u001b[0m",
      "\u001b[0;31mNameError\u001b[0m                                 Traceback (most recent call last)",
      "\u001b[0;32m<ipython-input-11-9df7b21148fd>\u001b[0m in \u001b[0;36m<module>\u001b[0;34m\u001b[0m\n\u001b[0;32m----> 1\u001b[0;31m \u001b[0mprint\u001b[0m\u001b[0;34m(\u001b[0m\u001b[0mw\u001b[0m\u001b[0;34m[\u001b[0m\u001b[0;36m0\u001b[0m\u001b[0;34m:\u001b[0m\u001b[0;36m10\u001b[0m\u001b[0;34m]\u001b[0m\u001b[0;34m)\u001b[0m\u001b[0;34m\u001b[0m\u001b[0;34m\u001b[0m\u001b[0m\n\u001b[0m",
      "\u001b[0;31mNameError\u001b[0m: name 'w' is not defined"
     ]
    }
   ],
   "source": [
    "print(w[0:10])"
   ]
  },
  {
   "cell_type": "code",
   "execution_count": 53,
   "metadata": {},
   "outputs": [
    {
     "name": "stdout",
     "output_type": "stream",
     "text": [
      "[0.23595820367336273, 0.27367058396339417, 0.028256863355636597, 0.02711782045662403, 0.01385591458529234, 0.12679602205753326, 0.21482820808887482, -0.5414485335350037, 0.31689101457595825, -0.2732972204685211, -0.13222065567970276, -0.16185666620731354, -0.7618507742881775, 0.02231205441057682, -0.6814431548118591, 0.024879492819309235, 0.0, 2.413695812225342, 1.4797947406768799, -1.0542773008346558, -1.0918638706207275, -1.3134162425994873, 0.33767756819725037, -0.008651601150631905, -0.1102292388677597, -0.0877900943160057, 0.7129209637641907]\n"
     ]
    }
   ],
   "source": [
    "print(b)"
   ]
  },
  {
   "cell_type": "code",
   "execution_count": 17,
   "metadata": {},
   "outputs": [
    {
     "name": "stdout",
     "output_type": "stream",
     "text": [
      "0b111111111010101001100000\n",
      "0b111111111111111111101001\n"
     ]
    }
   ],
   "source": []
  },
  {
   "cell_type": "code",
   "execution_count": 161,
   "metadata": {},
   "outputs": [
    {
     "name": "stdout",
     "output_type": "stream",
     "text": [
      "(100,)\n",
      "870\n",
      "[16755296, 16777193, 16761821, 16751532, 16753568, 16771425, 16765070, 16773469, 16748779, 16760830, 16758742, 16749250, 14620, 52192, 42956, 37894, 37732, 11777, 16771807, 16758187, 16768342, 18137, 17198, 9885, 5392, 4967, 8486, 16775431, 16776081, 16752936, 16750767, 18162, 16744010, 16725193, 16739288, 16772201, 1901, 7370, 21638, 16754848, 16756992, 16710035, 16715306, 16768589, 28753, 16762414, 16753304, 16755995, 1955, 16774295, 16761465, 11290, 33231, 19337, 11707, 16760454, 12860, 19126, 11228, 2814, 16770507, 60644, 23758, 16746939, 16729700, 16767311, 41843, 42436, 15276, 16773346, 16774244, 47224, 49854, 38269, 18866, 21760, 31229, 29210, 16775715, 16776157, 16750760, 34977, 10351, 20299, 23113, 12778, 16776001, 16764980, 4695, 16773659, 16758279, 16776111, 16748732, 16745104, 16765113, 16766492, 3356, 16768054, 16750820, 16768282, 16750173, 16765394, 16764806, 16770028, 16774929, 16768721, 16766727, 16762464, 16757169, 16763249, 16762009, 16773880, 16766082, 30934, 28004, 30429, 20328, 16773377, 16753892, 16768414, 16763779, 16755881, 16766340, 15780, 18462, 29842, 9110, 6832, 83, 16754600, 16752084, 16759746, 3881, 16773202, 16758606, 16764891, 16763797, 5858, 20935, 16768749, 16750792, 16755273, 16743741, 16751033, 6058, 55755, 16771741, 16764341, 8522, 16764862, 16755735, 16760700, 16760352, 16775324, 80739, 57176, 16771521, 16734252, 16701520, 16752777, 16769620, 16772332, 3621, 16772783, 22631, 16772606, 16768364, 16774604, 6558, 16758343, 16745816, 17850, 57563, 22620, 16767210, 21427, 41479, 46805, 12552, 16745362, 16758355, 4700, 16776184, 16491, 23495, 21466, 32400, 31170, 7451, 16766243, 16769371, 16747327, 16754710, 22734, 25835, 11710, 18096, 4285, 16763043, 16763782, 16776462, 16763739, 11029, 6404, 16763516, 18956, 18618, 16763938, 16762160, 5306, 9526, 16763269, 27, 16776005, 16776119, 16764806, 16764555, 16764862, 16763623, 16762990, 10532, 7778, 9805, 28294, 22163, 12653, 10968, 10121, 16754820, 10193, 16764277, 17546, 34016, 26735, 6391, 13738, 9125, 8748, 3807, 17236, 16760589, 16727889, 16694035, 16700213, 16700875, 16750973, 16742290, 16729297, 16707865, 16775914, 16775226, 16728044, 16742422, 16766598, 14243, 13085, 16764079, 16754649, 16761014, 36912, 16769173, 12014, 21154, 16771452, 29825, 14573, 16766339, 16768949, 24177, 16776091, 16762006, 27345, 30030, 16248, 10304, 4610, 14841, 33890, 64719, 6705, 10258, 7042, 15564, 10105, 8036, 6609, 4766, 6550, 16775256, 555, 16762333, 16775425, 5996, 17490, 17276, 6468, 6009, 16754240, 4056, 777, 124, 4731, 4472, 7372, 16775885, 2824, 16768675, 11411, 16762070, 11715, 8155, 3101, 16761777, 2963, 16758540, 16766698, 23281, 9497, 17506, 16771477, 16760607, 16745993, 16773871, 18868, 16770461, 16758442, 16776243, 8433, 27264, 16773782, 16765430, 16743533, 16757140, 7340, 16751502, 16705405, 16751547, 16775844, 5563, 16771137, 16762506, 16755094, 16773249, 10928, 7331, 16764137, 16762412, 16769597, 22981, 16760345, 16767391, 16773105, 62914, 78011, 68410, 48645, 43294, 3075, 16776053, 16759906, 16775441, 16770268, 36649, 9120, 20005, 29463, 36059, 18014, 16774341, 16773067, 16770720, 16759674, 16764430, 16772841, 15724, 19905, 19712, 354, 16770236, 7744, 16768176, 16759220, 16743960, 16763623, 16772639, 16770122, 4275, 36008, 4115, 6365, 13406, 16763846, 16747494, 16717933, 16726429, 16714508, 16710882, 16737024, 16764424, 16769012, 16773722, 4144, 8018, 16774582, 16760808, 16763255, 16757490, 16768610, 11569, 16771900, 16760995, 7293, 11045, 16770863, 16745723, 16751788, 16766007, 16761302, 16760423, 16770230, 16775891, 22638, 29368, 31946, 4025, 1815, 16775632, 1814, 16762356, 16763512, 16774502, 14036, 16776134, 16776404, 16748194, 16758741, 5666, 3909, 16727946, 16765918, 16767667, 16773627, 16758634, 16770318, 16763241, 60621, 30865, 9620, 16748319, 5262, 16765140, 24644, 40412, 33493, 57167, 94682, 64230, 9186, 16754615, 3826, 16771591, 16773027, 16771246, 16741059, 16775105, 40377, 16016, 2183, 16764186, 16776746, 7804, 16760421, 16731052, 16723740, 16739042, 16764962, 16762467, 16739092, 16711022, 16773147, 16762187, 16775829, 16769909, 16764881, 16748346, 16755152, 16772236, 16775631, 16759639, 16762999, 16765187, 16766297, 7923, 2018, 16772830, 19084, 11623, 1139, 8932, 1947, 1245, 16771163, 16754643, 16772456, 16752857, 16757301, 16755322, 16769784, 298, 16759782, 16760835, 2696, 16740615, 16731033, 16722304, 16733405, 16768031, 5036, 31157, 16764108, 16767844, 16748963, 16774688, 23387, 15704, 7857, 25045, 40461, 57376, 6972, 16758360, 16776473, 11612, 17514, 9205, 16769503, 16772527, 17673, 83082, 18840, 16757441, 17772, 22869, 34227, 31476, 27852, 16755560, 16710630, 16703861, 16772590, 16770906, 16766122, 27562, 20653, 34226, 39087, 22225, 16776931, 16747260, 16754045, 16768957, 16768099, 16771814, 16690011, 16712947, 1926, 3758, 16774219, 16725978, 16769661, 16770196, 16775983, 14972, 16765203, 16749558, 6449, 16360, 16689, 16768733, 16764528, 16759499, 16775491, 4868, 30412, 17556, 18738, 20677, 16769157, 16760281, 16757248, 16768548, 5503, 16775604, 13850, 14694, 16777201, 1542, 16764170, 16770071, 16757472, 16762927, 16758942, 16756353, 16747402, 16748953, 16772051, 16759292, 16755790, 16760741, 16766349, 16753845, 16773678, 16757476, 16738034, 16747400, 16757926, 16761416, 16756921, 16760306, 16766520, 16758506, 16751454, 3221, 44446, 40056, 53438, 44968, 23497, 16763110, 16742789, 16776932, 16776969, 26706, 54227, 29985, 16764893, 28224, 49554, 36991, 16775743, 16757096, 16763830, 1380, 16769344, 16728237, 16738932, 4263, 23404, 29761, 16763098, 16764164, 1929, 44816, 57157, 17139, 5393, 26294, 16745231, 16736116, 16766407, 16751733, 16759221, 32726, 11457, 16775079, 3541, 1063, 16756508, 16761150, 16757466, 16751863, 16761937, 16774825, 16752745, 16757373, 16762682, 16770848, 5002, 16770122, 16769779, 16771769, 16740779, 16771750, 17387, 28858, 11167, 4569, 30179, 24198, 16764962, 16750676, 16763030, 15215, 48860, 56768, 56271, 58293, 21453, 16772644, 16776460, 16290, 71792, 16775010, 16728819, 35674, 42689, 52099, 16702903, 69758, 19235, 16756759, 16185, 16769161, 16736920, 62796, 16701807, 16752075, 16775236, 54309, 50742, 16775161, 33299, 95747, 17177, 63506, 16757851, 46982, 16707142, 29083, 16768526, 16700885, 55589, 27134, 16765123, 82175, 29710, 32333, 108126, 66255, 28164, 16722814, 16724685, 16669632, 16748710, 33266, 16684, 10965, 72753, 20433, 81799, 28861, 40366, 16720170, 38338, 16740952, 67229, 16774857, 25123, 60090, 16760780, 16688115, 58078, 63199, 16768396, 16749899, 16761340, 16745894, 16756476, 16775041, 16741869, 16704217, 30010, 5171, 13821, 51437, 16722535, 16670239, 16775276, 96303, 16765971, 21948, 25522, 16758223, 37218, 16637061, 16765793, 16769717, 16727677, 16730178, 382, 16745763, 12477, 42825, 16764345, 16770071, 79440, 16737435, 18072, 64569, 3627, 34642, 16702596, 23615, 42055, 16704801, 16739414, 16755854, 71743, 16743550, 34234, 16769189, 35989, 12841, 5672, 51505, 16749991, 16775978, 16678426, 16664958, 15909, 16767405, 16671416, 16776261, 60421, 16749476, 16756222, 16762107, 16722201, 53724, 4095, 16756691, 16768049, 16763260, 21142, 52888, 53235, 16671493, 16585490, 64293, 16751262, 16772866, 43344, 87964, 16711585, 16722780, 19120, 42115, 67292, 16756098, 16744737, 24026, 16776783, 16666835, 48741, 29029, 16708955, 16738528, 16744955, 1838, 15010, 56119, 15226, 16745380, 16759315, 19547, 16680010, 16776808, 16769813, 16684001, 16760564]\n"
     ]
    }
   ],
   "source": [
    "def byte_complement_numerical(a, decimal_bits, total_bits=8):\n",
    "    if (a>=0):\n",
    "        return int(round(a*2**decimal_bits))\n",
    "    else:\n",
    "        return int(2**total_bits + round(a*2**decimal_bits))\n",
    "f = lambda x:byte_complement_numerical(x, 16, 24)\n",
    "print(x.shape)\n",
    "w, b = pickle.load(open('mnist_weights_small.pkl', 'rb'))\n",
    "\n",
    "l = list(map(f, w))\n",
    "print(len(l))\n",
    "print(l)"
   ]
  },
  {
   "cell_type": "code",
   "execution_count": 10,
   "metadata": {},
   "outputs": [
    {
     "ename": "NameError",
     "evalue": "name 'w' is not defined",
     "output_type": "error",
     "traceback": [
      "\u001b[0;31m---------------------------------------------------------------------------\u001b[0m",
      "\u001b[0;31mNameError\u001b[0m                                 Traceback (most recent call last)",
      "\u001b[0;32m<ipython-input-10-c76535a62355>\u001b[0m in \u001b[0;36m<module>\u001b[0;34m\u001b[0m\n\u001b[0;32m----> 1\u001b[0;31m \u001b[0mw\u001b[0m\u001b[0;34m[\u001b[0m\u001b[0;36m0\u001b[0m\u001b[0;34m:\u001b[0m\u001b[0;36m10\u001b[0m\u001b[0;34m]\u001b[0m\u001b[0;34m\u001b[0m\u001b[0;34m\u001b[0m\u001b[0m\n\u001b[0m",
      "\u001b[0;31mNameError\u001b[0m: name 'w' is not defined"
     ]
    }
   ],
   "source": [
    "w[0:10]"
   ]
  }
 ],
 "metadata": {
  "kernelspec": {
   "display_name": "Python 3",
   "language": "python",
   "name": "python3"
  },
  "language_info": {
   "codemirror_mode": {
    "name": "ipython",
    "version": 3
   },
   "file_extension": ".py",
   "mimetype": "text/x-python",
   "name": "python",
   "nbconvert_exporter": "python",
   "pygments_lexer": "ipython3",
   "version": "3.7.7"
  }
 },
 "nbformat": 4,
 "nbformat_minor": 2
}
