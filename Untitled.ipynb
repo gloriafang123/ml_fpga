{
 "cells": [
  {
   "cell_type": "code",
   "execution_count": 1,
   "metadata": {},
   "outputs": [],
   "source": [
    "import numpy as np\n",
    "import mnist\n",
    "import tensorflow as tf\n",
    "from tensorflow.keras.models import Sequential\n",
    "from tensorflow.keras.layers import Dense\n",
    "from tensorflow.keras.utils import to_categorical\n",
    "\n",
    "np.random.seed(0)\n",
    "tf.random.set_seed(0)\n",
    "\n",
    "train_images = mnist.train_images()\n",
    "train_labels = mnist.train_labels()\n",
    "test_images = mnist.test_images()\n",
    "test_labels = mnist.test_labels()\n",
    "\n",
    "# Normalize the images.\n",
    "train_images = (train_images / 255) - 0.5\n",
    "test_images = (test_images / 255) - 0.5"
   ]
  },
  {
   "cell_type": "code",
   "execution_count": 2,
   "metadata": {},
   "outputs": [
    {
     "name": "stdout",
     "output_type": "stream",
     "text": [
      "(10000, 10, 10)\n"
     ]
    }
   ],
   "source": [
    "from matplotlib import pyplot as plt\n",
    "import cv2\n",
    "\n",
    "downsampled_train_images = np.zeros((train_images.shape[0], 10, 10))\n",
    "for i in range(train_images.shape[0]):\n",
    "    train_image = train_images[i]\n",
    "    res = cv2.resize(train_image, dsize=(10, 10), interpolation=cv2.INTER_CUBIC)\n",
    "    downsampled_train_images[i] = res\n",
    "\n",
    "downsampled_test_images = np.zeros((test_images.shape[0], 10, 10))\n",
    "print(downsampled_test_images.shape)\n",
    "for i in range(test_images.shape[0]):\n",
    "    test_image = test_images[i]\n",
    "    res = cv2.resize(test_image, dsize=(10, 10), interpolation=cv2.INTER_CUBIC)\n",
    "    downsampled_test_images[i] = res"
   ]
  },
  {
   "cell_type": "code",
   "execution_count": 3,
   "metadata": {},
   "outputs": [],
   "source": [
    "train_images = downsampled_train_images.reshape((-1, 100))\n",
    "test_images = downsampled_test_images.reshape((-1, 100))"
   ]
  },
  {
   "cell_type": "code",
   "execution_count": 4,
   "metadata": {},
   "outputs": [],
   "source": [
    "from tensorflow.keras.models import Sequential\n",
    "from tensorflow.keras.layers import Dense\n",
    "import numpy as np\n",
    "import mnist\n",
    "\n",
    "ds_size = 10\n",
    "\n",
    "# Build the model.\n",
    "model = Sequential([\n",
    "  Dense(7, activation='relu', input_shape=(ds_size*ds_size,)),\n",
    "  Dense(10, activation='relu'),\n",
    "  Dense(10, activation='softmax'),\n",
    "])\n",
    "\n",
    "# Load the model's saved weights.\n",
    "model.load_weights('model.h5')\n",
    "w1, b1, w2, b2, w3, b3 = list(map(lambda x:x.numpy(), model.weights))\n",
    "def relu(x): \n",
    "    return np.maximum(0, x)\n",
    "\n",
    "def net(x):\n",
    "    return w3.T@relu(w2.T@relu(w1.T@x+b1)+b2)+b3"
   ]
  },
  {
   "cell_type": "code",
   "execution_count": 16,
   "metadata": {},
   "outputs": [
    {
     "data": {
      "image/png": "[encoded data removed]",
      "text/plain": [
       "<Figure size 432x288 with 1 Axes>"
      ]
     },
     "metadata": {
      "needs_background": "light"
     },
     "output_type": "display_data"
    }
   ],
   "source": [
    "# prepare input\n",
    "\n",
    "i = 7\n",
    "img = downsampled_test_images[i]\n",
    "y = test_labels[i]\n",
    "\n",
    "plt.imshow(img, cmap='gray')\n",
    "x = img.reshape(100,)\n",
    "\n",
    "\n",
    "model.layers[-1].activation = None\n",
    "model.compile()"
   ]
  },
  {
   "cell_type": "code",
   "execution_count": 23,
   "metadata": {},
   "outputs": [
    {
     "name": "stdout",
     "output_type": "stream",
     "text": [
      "seconds:  0.0767280730069615\n",
      "seconds:  0.00016496900934726\n",
      "[-8.06742743 -8.872648   -6.27012697 -2.54809683  1.49123358 -0.71138418\n",
      " -6.70365017 -2.48778576 -0.05198918  3.51796046]\n"
     ]
    }
   ],
   "source": [
    "from timeit import default_timer as timer\n",
    "import tensorflow.keras.backend as K\n",
    "x_tensor = K.constant(img.reshape(1, 100))\n",
    "t_start = timer()\n",
    "res = model.predict(x_tensor)\n",
    "t_end = timer()\n",
    "# print(\"result: \", res)\n",
    "print(\"seconds: \", t_end - t_start)\n",
    "\n",
    "t_start = timer()\n",
    "res = net(x)\n",
    "t_end = timer()\n",
    "# print(\"result: \", res)\n",
    "print(\"seconds: \", t_end - t_start)\n",
    "\n",
    "print(res)"
   ]
  },
  {
   "cell_type": "code",
   "execution_count": 8,
   "metadata": {},
   "outputs": [
    {
     "name": "stdout",
     "output_type": "stream",
     "text": [
      "predicted output: 0\n",
      "real output: 0\n"
     ]
    }
   ],
   "source": [
    "print(f\"predicted output: {np.argmax(res)}\")\n",
    "print(f\"real output: {y}\")"
   ]
  }
 ],
 "metadata": {
  "kernelspec": {
   "display_name": "Python 3",
   "language": "python",
   "name": "python3"
  },
  "language_info": {
   "codemirror_mode": {
    "name": "ipython",
    "version": 3
   },
   "file_extension": ".py",
   "mimetype": "text/x-python",
   "name": "python",
   "nbconvert_exporter": "python",
   "pygments_lexer": "ipython3",
   "version": "3.7.7"
  }
 },
 "nbformat": 4,
 "nbformat_minor": 2
}
